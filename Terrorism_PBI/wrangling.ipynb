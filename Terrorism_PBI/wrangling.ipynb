{
 "cells": [
  {
   "cell_type": "code",
   "execution_count": 416,
   "metadata": {},
   "outputs": [],
   "source": [
    "import numpy as np\n",
    "import pandas as pd\n",
    "import json\n",
    "import os\n",
    "import matplotlib as plt\n",
    "import re"
   ]
  },
  {
   "cell_type": "code",
   "execution_count": 417,
   "metadata": {},
   "outputs": [],
   "source": [
    "data_src = \"./globalterrorismdb_0522dist.xlsx\""
   ]
  },
  {
   "cell_type": "code",
   "execution_count": 419,
   "metadata": {},
   "outputs": [
    {
     "data": {
      "text/html": [
       "<div>\n",
       "<style scoped>\n",
       "    .dataframe tbody tr th:only-of-type {\n",
       "        vertical-align: middle;\n",
       "    }\n",
       "\n",
       "    .dataframe tbody tr th {\n",
       "        vertical-align: top;\n",
       "    }\n",
       "\n",
       "    .dataframe thead th {\n",
       "        text-align: right;\n",
       "    }\n",
       "</style>\n",
       "<table border=\"1\" class=\"dataframe\">\n",
       "  <thead>\n",
       "    <tr style=\"text-align: right;\">\n",
       "      <th></th>\n",
       "      <th>Unnamed: 0</th>\n",
       "      <th>iyear</th>\n",
       "      <th>imonth</th>\n",
       "      <th>iday</th>\n",
       "      <th>extended</th>\n",
       "      <th>resolution</th>\n",
       "      <th>country_txt</th>\n",
       "      <th>region_txt</th>\n",
       "      <th>summary</th>\n",
       "      <th>multiple</th>\n",
       "      <th>...</th>\n",
       "      <th>divert</th>\n",
       "      <th>ransom</th>\n",
       "      <th>ransomamt</th>\n",
       "      <th>ransompaid</th>\n",
       "      <th>hostkidoutcome_txt</th>\n",
       "      <th>INT_LOG</th>\n",
       "      <th>INT_IDEO</th>\n",
       "      <th>INT_MISC</th>\n",
       "      <th>nkillvictams</th>\n",
       "      <th>ransom_paid_text</th>\n",
       "    </tr>\n",
       "  </thead>\n",
       "  <tbody>\n",
       "    <tr>\n",
       "      <th>0</th>\n",
       "      <td>0</td>\n",
       "      <td>2000</td>\n",
       "      <td>1</td>\n",
       "      <td>1</td>\n",
       "      <td>0</td>\n",
       "      <td>NaT</td>\n",
       "      <td>Namibia</td>\n",
       "      <td>Sub-Saharan Africa</td>\n",
       "      <td>In the first of two related incidents, Nationa...</td>\n",
       "      <td>Yes</td>\n",
       "      <td>...</td>\n",
       "      <td>NaN</td>\n",
       "      <td>Unknown</td>\n",
       "      <td>0.0</td>\n",
       "      <td>0.0</td>\n",
       "      <td>Unknown</td>\n",
       "      <td>Yes</td>\n",
       "      <td>Yes</td>\n",
       "      <td>No</td>\n",
       "      <td>0</td>\n",
       "      <td>No Ransom, No Payment</td>\n",
       "    </tr>\n",
       "    <tr>\n",
       "      <th>1</th>\n",
       "      <td>1</td>\n",
       "      <td>2000</td>\n",
       "      <td>1</td>\n",
       "      <td>1</td>\n",
       "      <td>1</td>\n",
       "      <td>NaT</td>\n",
       "      <td>Namibia</td>\n",
       "      <td>Sub-Saharan Africa</td>\n",
       "      <td>In the second of two related incidents, the Na...</td>\n",
       "      <td>Yes</td>\n",
       "      <td>...</td>\n",
       "      <td>NaN</td>\n",
       "      <td>No</td>\n",
       "      <td>0.0</td>\n",
       "      <td>0.0</td>\n",
       "      <td>Unknown</td>\n",
       "      <td>Yes</td>\n",
       "      <td>Yes</td>\n",
       "      <td>No</td>\n",
       "      <td>0</td>\n",
       "      <td>No Ransom, No Payment</td>\n",
       "    </tr>\n",
       "    <tr>\n",
       "      <th>2</th>\n",
       "      <td>2</td>\n",
       "      <td>2000</td>\n",
       "      <td>1</td>\n",
       "      <td>1</td>\n",
       "      <td>0</td>\n",
       "      <td>NaT</td>\n",
       "      <td>Kosovo</td>\n",
       "      <td>Eastern Europe</td>\n",
       "      <td>A Romany (gypsy) house in Pec, Kosovo, was bom...</td>\n",
       "      <td>No</td>\n",
       "      <td>...</td>\n",
       "      <td>NaN</td>\n",
       "      <td>Unknown</td>\n",
       "      <td>0.0</td>\n",
       "      <td>0.0</td>\n",
       "      <td>Unknown</td>\n",
       "      <td>Unknown</td>\n",
       "      <td>Unknown</td>\n",
       "      <td>Yes</td>\n",
       "      <td>0</td>\n",
       "      <td>No Ransom, No Payment</td>\n",
       "    </tr>\n",
       "    <tr>\n",
       "      <th>3</th>\n",
       "      <td>3</td>\n",
       "      <td>2000</td>\n",
       "      <td>1</td>\n",
       "      <td>1</td>\n",
       "      <td>0</td>\n",
       "      <td>NaT</td>\n",
       "      <td>Bangladesh</td>\n",
       "      <td>South Asia</td>\n",
       "      <td>In a series of related incidents, numerous bom...</td>\n",
       "      <td>Yes</td>\n",
       "      <td>...</td>\n",
       "      <td>NaN</td>\n",
       "      <td>Unknown</td>\n",
       "      <td>0.0</td>\n",
       "      <td>0.0</td>\n",
       "      <td>Unknown</td>\n",
       "      <td>Unknown</td>\n",
       "      <td>Unknown</td>\n",
       "      <td>No</td>\n",
       "      <td>-99</td>\n",
       "      <td>No Ransom, No Payment</td>\n",
       "    </tr>\n",
       "    <tr>\n",
       "      <th>4</th>\n",
       "      <td>4</td>\n",
       "      <td>2000</td>\n",
       "      <td>1</td>\n",
       "      <td>1</td>\n",
       "      <td>0</td>\n",
       "      <td>NaT</td>\n",
       "      <td>India</td>\n",
       "      <td>South Asia</td>\n",
       "      <td>An Oil and Natural Gas Commission (ONGC) pipel...</td>\n",
       "      <td>No</td>\n",
       "      <td>...</td>\n",
       "      <td>NaN</td>\n",
       "      <td>Unknown</td>\n",
       "      <td>0.0</td>\n",
       "      <td>0.0</td>\n",
       "      <td>Unknown</td>\n",
       "      <td>No</td>\n",
       "      <td>No</td>\n",
       "      <td>No</td>\n",
       "      <td>0</td>\n",
       "      <td>No Ransom, No Payment</td>\n",
       "    </tr>\n",
       "  </tbody>\n",
       "</table>\n",
       "<p>5 rows × 40 columns</p>\n",
       "</div>"
      ],
      "text/plain": [
       "   Unnamed: 0  iyear  imonth  iday  extended resolution country_txt  \\\n",
       "0           0   2000       1     1         0        NaT     Namibia   \n",
       "1           1   2000       1     1         1        NaT     Namibia   \n",
       "2           2   2000       1     1         0        NaT      Kosovo   \n",
       "3           3   2000       1     1         0        NaT  Bangladesh   \n",
       "4           4   2000       1     1         0        NaT       India   \n",
       "\n",
       "           region_txt                                            summary  \\\n",
       "0  Sub-Saharan Africa  In the first of two related incidents, Nationa...   \n",
       "1  Sub-Saharan Africa  In the second of two related incidents, the Na...   \n",
       "2      Eastern Europe  A Romany (gypsy) house in Pec, Kosovo, was bom...   \n",
       "3          South Asia  In a series of related incidents, numerous bom...   \n",
       "4          South Asia  An Oil and Natural Gas Commission (ONGC) pipel...   \n",
       "\n",
       "  multiple  ...  divert   ransom ransomamt ransompaid hostkidoutcome_txt  \\\n",
       "0      Yes  ...     NaN  Unknown       0.0        0.0            Unknown   \n",
       "1      Yes  ...     NaN       No       0.0        0.0            Unknown   \n",
       "2       No  ...     NaN  Unknown       0.0        0.0            Unknown   \n",
       "3      Yes  ...     NaN  Unknown       0.0        0.0            Unknown   \n",
       "4       No  ...     NaN  Unknown       0.0        0.0            Unknown   \n",
       "\n",
       "   INT_LOG INT_IDEO INT_MISC nkillvictams       ransom_paid_text  \n",
       "0      Yes      Yes       No            0  No Ransom, No Payment  \n",
       "1      Yes      Yes       No            0  No Ransom, No Payment  \n",
       "2  Unknown  Unknown      Yes            0  No Ransom, No Payment  \n",
       "3  Unknown  Unknown       No          -99  No Ransom, No Payment  \n",
       "4       No       No       No            0  No Ransom, No Payment  \n",
       "\n",
       "[5 rows x 40 columns]"
      ]
     },
     "execution_count": 419,
     "metadata": {},
     "output_type": "execute_result"
    }
   ],
   "source": [
    "df = pd.read_excel(data_src)\n",
    "df.head()"
   ]
  },
  {
   "cell_type": "code",
   "execution_count": 450,
   "metadata": {},
   "outputs": [
    {
     "data": {
      "text/plain": [
       "(209706, 135)"
      ]
     },
     "execution_count": 450,
     "metadata": {},
     "output_type": "execute_result"
    }
   ],
   "source": [
    "df.shape"
   ]
  },
  {
   "cell_type": "code",
   "execution_count": 421,
   "metadata": {},
   "outputs": [
    {
     "name": "stdout",
     "output_type": "stream",
     "text": [
      "0. Unnamed: 0\n",
      "1. iyear\n",
      "2. imonth\n",
      "3. iday\n",
      "4. extended\n",
      "5. resolution\n",
      "6. country_txt\n",
      "7. region_txt\n",
      "8. summary\n",
      "9. multiple\n",
      "10. success\n",
      "11. suicide\n",
      "12. attacktype1_txt\n",
      "13. attacktype2_txt\n",
      "14. attacktype3_txt\n",
      "15. targtype1_txt\n",
      "16. targtype2_txt\n",
      "17. targtype3_txt\n",
      "18. individual\n",
      "19. claimed\n",
      "20. compclaim\n",
      "21. weaptype1_txt\n",
      "22. weaptype2_txt\n",
      "23. weaptype3_txt\n",
      "24. weaptype4_txt\n",
      "25. nkill\n",
      "26. nkillter\n",
      "27. nwound\n",
      "28. property\n",
      "29. ishostkid\n",
      "30. divert\n",
      "31. ransom\n",
      "32. ransomamt\n",
      "33. ransompaid\n",
      "34. hostkidoutcome_txt\n",
      "35. INT_LOG\n",
      "36. INT_IDEO\n",
      "37. INT_MISC\n",
      "38. nkillvictams\n",
      "39. ransom_paid_text\n"
     ]
    }
   ],
   "source": [
    "for i, c in enumerate(df.columns):\n",
    "    print(f\"{i}. {c}\")"
   ]
  },
  {
   "attachments": {},
   "cell_type": "markdown",
   "metadata": {},
   "source": [
    "## Columns\n",
    "0. eventid: ID 12-digit Event ID system - yyyymmdd + sequential case number for the given day\n",
    "1. iyear: Year\n",
    "2. imonth: Month\n",
    "3. iday: Day\n",
    "4. approxdate: Whenever the exact date of the incident is not known or remains unclear, this field is used to record the approximate date of the incident\n",
    "5. extended: The duration of an incident extended more than 24 hours.\n",
    "6. resolution: This field only applies if “Extended Incident?” is “Yes” and records the date in which the incident was resolved\n",
    "7. country\n",
    "8. country_txt\n",
    "9. region\n",
    "10. region_txt\n",
    "11. provstate\n",
    "12. city\n",
    "13. latitude\n",
    "14. longitude\n",
    "15. specificity\n",
    "16. vicinity\n",
    "17. location\n",
    "18. summary: A brief narrative summary of the incident\n",
    "19. crit1: Criterion 1: POLITICAL, ECONOMIC, RELIGIOUS, OR SOCIAL GOAL\n",
    "20. crit2: Criterion 2: INTENTION TO INTIMIDATE OR PUBLICIZE TO LARGER AUDIENCE\n",
    "21. crit3: Criterion 3: OUTSIDE INTERNATIONAL HUMANITARIAN LAW\n",
    "22. doubtterr: uncertainty whether an incident meets all of the criteria for inclusion\n",
    "23. alternative: applies to cases coded as “Yes” for “Doubt Terrorism Proper?”.  This variable identifies the most likely categorization of the incident other than terrorism\n",
    "24. alternative_txt\n",
    "25. multiple: several attacks are connected\n",
    "134. related: multi-part incident the GTD IDs of the related incidents are listed here\n",
    "26. success\n",
    "27. suicide\n",
    "28. 33. attacktype1; attacktype1_txt: general method of attack and often reflects the broad class of tactics used\n",
    "34. 57. targtype1; targtype1_txt; targsubtype1; targsubtype1_txt; corp1; natlty1; natlty1_txt\n",
    "58. 67. gname: Perpetrator Group Name\n",
    "64. motive: \n",
    "68. individual: the attack was carried out by an individual or several individuals not known to be affiliated with a group or organization\n",
    "69. nperps: number of perps\n",
    "70. nperpcap: number of Captured perps\n",
    "71. claimed: whether a group or person(s) claimed responsibility for the attack.\n",
    "72. 79. claimmode; claimmode_txt: This records one of 10 modes used by claimants to claim responsibility\n",
    "80. compclaim: more than one group claimed separate responsibility for the attack\n",
    "81. 96. weaptype1; weaptype1_txt, weapsubtype1; weapsubtype1_txt\n",
    "98. nkill: number of kills from perps and victams\n",
    "99. nkillus: number of US citizans kills from perps and victams\n",
    "100. nkillter: number of kills from perps only\n",
    "101. nwound\n",
    "102. nwoundus\n",
    "104. property: damage to property\n",
    "105. 106. propextent; propextent_txt\n",
    "109. ishostkid: hostages or kidnapping\n",
    "110. nhostkid: hostages or kidnapping number\n",
    "114. divert: Country That Kidnappers/Hijackers Diverted To\n",
    "116. ransom\n",
    "123. hostkidoutcome_txt: Kidnapping/Hostage Outcome\n",
    "130. INT_LOG: The attack was logistically international; the nationality of the perpetrator group differs from the location of the attack\n",
    "131. INT_IDEO: The attack was ideologically international; the nationality of the perpetrator group differs from the nationality of the target\n",
    "132. INT_MISC: the location of the attack differs from the nationality of the target"
   ]
  },
  {
   "cell_type": "code",
   "execution_count": 422,
   "metadata": {},
   "outputs": [],
   "source": [
    "remove_rows = {\"doubtterr\":1, }"
   ]
  },
  {
   "cell_type": "code",
   "execution_count": 451,
   "metadata": {},
   "outputs": [],
   "source": [
    "remove_columns = [\n",
    "    \"eventid\", \n",
    "    \"approxdate\", \n",
    "    \"crit1\", \n",
    "    \"crit2\", \n",
    "    \"crit3\", \n",
    "    \"doubtterr\", \n",
    "    \"alternative\", \n",
    "    \"alternative_txt\", \n",
    "    \"related\", \n",
    "    \"country\", \n",
    "    \"region\", \n",
    "    \"provstate\", \n",
    "    \"city\", \n",
    "    \"vicinity\", \n",
    "    \"latitude\", \n",
    "    \"longitude\", \n",
    "    \"specificity\",\n",
    "    \"attacktype1\",\n",
    "    \"attacktype2\",\n",
    "    \"attacktype3\",\n",
    "    \"weaptype1\",\n",
    "    \"weaptype2\",\n",
    "    \"weaptype3\",\n",
    "    \"weaptype4\",\n",
    "    \"weapsubtype1\",\n",
    "    \"weapsubtype2\",\n",
    "    \"weapsubtype3\",\n",
    "    \"weapsubtype4\",\n",
    "    \"weapsubtype1_txt\",\n",
    "    \"weapsubtype2_txt\",\n",
    "    \"weapsubtype3_txt\",\n",
    "    \"weapsubtype4_txt\",\n",
    "    \"weapdetail\",\n",
    "    \"targtype1\",\n",
    "    \"targsubtype1\",\n",
    "    \"targsubtype1_txt\",\n",
    "    \"corp1\",\n",
    "    \"target1\",\n",
    "    \"natlty1\",\n",
    "    \"natlty1_txt\",\n",
    "    \"targtype2\",\n",
    "    \"targsubtype2\",\n",
    "    \"corp2\",\n",
    "    \"target2\",\n",
    "    \"natlty2\",\n",
    "    \"targsubtype2_txt\",\n",
    "    \"natlty2_txt\",\n",
    "    \"targtype3\",\n",
    "    \"targsubtype3\",\n",
    "    \"corp3\",\n",
    "    \"target3\",\n",
    "    \"natlty3\",\n",
    "    \"targsubtype3_txt\",\n",
    "    \"natlty3_txt\",\n",
    "    \"gname\",\n",
    "    \"gsubname\",\n",
    "    \"gname2\",\n",
    "    \"gsubname2\",\n",
    "    \"gname3\",\n",
    "    \"gsubname3\",\n",
    "    \"guncertain1\",\n",
    "    \"guncertain2\",\n",
    "    \"guncertain3\",\n",
    "    \"nperps\",\n",
    "    \"nperpcap\",\n",
    "    \"nperpcap\",\n",
    "    \"claimmode\",\n",
    "    \"claimmode_txt\",\n",
    "    \"claim2\",\n",
    "    \"claimmode2\",\n",
    "    \"claimmode2_txt\",\n",
    "    \"claim3\",\n",
    "    \"claimmode3\",\n",
    "    \"claimmode3_txt\",\n",
    "    \"motive\",\n",
    "    \"nkillus\",\n",
    "    \"nwoundus\",\n",
    "    \"nwoundte\",\n",
    "    \"propextent\",\n",
    "    \"propextent_txt\",\n",
    "    \"propvalue\",\n",
    "    \"propcomment\",\n",
    "    \"nhostkid\",\n",
    "    \"nhostkidus\",\n",
    "    \"nhours\",\n",
    "    \"ndays\",\n",
    "    \"kidhijcountry\",\n",
    "    \"ransompaidus\",\n",
    "    \"ransomamtus\",\n",
    "    \"ransomnote\",\n",
    "    \"hostkidoutcome\",\n",
    "    \"nreleased\",\n",
    "    \"addnotes\",\n",
    "    \"addnotes\",\n",
    "    \"scite1\",\n",
    "    \"scite2\",\n",
    "    \"scite3\",\n",
    "    \"dbsource\",\n",
    "    \"INT_ANY\",\n",
    "    \"location\"\n",
    "    ]"
   ]
  },
  {
   "attachments": {},
   "cell_type": "markdown",
   "metadata": {},
   "source": [
    "# Cleaning"
   ]
  },
  {
   "attachments": {},
   "cell_type": "markdown",
   "metadata": {},
   "source": [
    "1. Remove unconfirmed acts"
   ]
  },
  {
   "cell_type": "code",
   "execution_count": 452,
   "metadata": {},
   "outputs": [],
   "source": [
    "dfc = df[df[\"doubtterr\"] != 1].copy()"
   ]
  },
  {
   "attachments": {},
   "cell_type": "markdown",
   "metadata": {},
   "source": [
    "2. Drop unwanted columns"
   ]
  },
  {
   "cell_type": "code",
   "execution_count": 453,
   "metadata": {},
   "outputs": [],
   "source": [
    "dfc.drop(columns=remove_columns, inplace=True)"
   ]
  },
  {
   "cell_type": "code",
   "execution_count": 454,
   "metadata": {},
   "outputs": [
    {
     "data": {
      "text/plain": [
       "Index(['iyear', 'imonth', 'iday', 'extended', 'resolution', 'country_txt',\n",
       "       'region_txt', 'summary', 'multiple', 'success', 'suicide',\n",
       "       'attacktype1_txt', 'attacktype2_txt', 'attacktype3_txt',\n",
       "       'targtype1_txt', 'targtype2_txt', 'targtype3_txt', 'individual',\n",
       "       'claimed', 'compclaim', 'weaptype1_txt', 'weaptype2_txt',\n",
       "       'weaptype3_txt', 'weaptype4_txt', 'nkill', 'nkillter', 'nwound',\n",
       "       'property', 'ishostkid', 'divert', 'ransom', 'ransomamt', 'ransompaid',\n",
       "       'hostkidoutcome_txt', 'INT_LOG', 'INT_IDEO', 'INT_MISC'],\n",
       "      dtype='object')"
      ]
     },
     "execution_count": 454,
     "metadata": {},
     "output_type": "execute_result"
    }
   ],
   "source": [
    "dfc.columns"
   ]
  },
  {
   "cell_type": "code",
   "execution_count": 455,
   "metadata": {},
   "outputs": [
    {
     "data": {
      "text/plain": [
       "(174471, 37)"
      ]
     },
     "execution_count": 455,
     "metadata": {},
     "output_type": "execute_result"
    }
   ],
   "source": [
    "dfc.shape"
   ]
  },
  {
   "cell_type": "code",
   "execution_count": 467,
   "metadata": {},
   "outputs": [],
   "source": [
    "features = [\n",
    "    \"suicide\",\n",
    "    \"success\",\n",
    "    \"extended\",\n",
    "    \"property\",\n",
    "    \"hostkidoutcome_txt\",\n",
    "    \"multiple\",\n",
    "    \"individual\",\n",
    "    \"claimed\",\n",
    "    \"compclaim\",\n",
    "    \"ishostkid\",\n",
    "    \"ransom\",\n",
    "    \"INT_LOG\",\n",
    "    \"INT_IDEO\",\n",
    "    \"INT_MISC\",\n",
    "]"
   ]
  },
  {
   "cell_type": "code",
   "execution_count": 468,
   "metadata": {},
   "outputs": [
    {
     "name": "stdout",
     "output_type": "stream",
     "text": [
      "-----------suicide------------\n",
      "0    202268\n",
      "1      7438\n",
      "Name: suicide, dtype: int64\n",
      "------------------------------\n",
      "-----------success------------\n",
      "1    185302\n",
      "0     24404\n",
      "Name: success, dtype: int64\n",
      "------------------------------\n",
      "-----------extended-----------\n",
      "0    198901\n",
      "1     10805\n",
      "Name: extended, dtype: int64\n",
      "------------------------------\n",
      "-----------property-----------\n",
      " 1    102927\n",
      " 0     78731\n",
      "-9     28048\n",
      "Name: property, dtype: int64\n",
      "------------------------------\n",
      "------hostkidoutcome_txt------\n",
      "NaN                                               195615\n",
      "Unknown                                             4798\n",
      "Hostage(s) released by perpetrators                 3824\n",
      "Hostage(s) killed (not during rescue attempt)       3209\n",
      "Combination                                         1399\n",
      "Successful Rescue                                    653\n",
      "Hostage(s) escaped (not during rescue attempt)       187\n",
      "Attempted Rescue                                      21\n",
      "Name: hostkidoutcome_txt, dtype: int64\n",
      "------------------------------\n",
      "-----------multiple-----------\n",
      "0.0    179109\n",
      "1.0     30596\n",
      "NaN         1\n",
      "Name: multiple, dtype: int64\n",
      "------------------------------\n",
      "----------individual----------\n",
      "0    208882\n",
      "1       824\n",
      "Name: individual, dtype: int64\n",
      "------------------------------\n",
      "-----------claimed------------\n",
      " 0.0    117524\n",
      " NaN     66093\n",
      " 1.0     24616\n",
      "-9.0      1473\n",
      "Name: claimed, dtype: int64\n",
      "------------------------------\n",
      "----------compclaim-----------\n",
      " NaN    204752\n",
      "-9.0      3433\n",
      " 0.0       997\n",
      " 1.0       524\n",
      "Name: compclaim, dtype: int64\n",
      "------------------------------\n",
      "----------ishostkid-----------\n",
      " 0.0    192240\n",
      " 1.0     16669\n",
      "-9.0       619\n",
      " NaN       178\n",
      "Name: ishostkid, dtype: int64\n",
      "------------------------------\n",
      "------------ransom------------\n",
      " NaN    129240\n",
      " 0.0     77411\n",
      "-9.0      1573\n",
      " 1.0      1482\n",
      "Name: ransom, dtype: int64\n",
      "------------------------------\n",
      "-----------INT_LOG------------\n",
      "-9    104025\n",
      " 0     97256\n",
      " 1      8425\n",
      "Name: INT_LOG, dtype: int64\n",
      "------------------------------\n",
      "-----------INT_IDEO-----------\n",
      "-9    104157\n",
      " 0     78117\n",
      " 1     27432\n",
      "Name: INT_IDEO, dtype: int64\n",
      "------------------------------\n",
      "-----------INT_MISC-----------\n",
      " 0    186625\n",
      " 1     22594\n",
      "-9       487\n",
      "Name: INT_MISC, dtype: int64\n",
      "------------------------------\n"
     ]
    }
   ],
   "source": [
    "for feat in features:\n",
    "    print(f\"{feat:-^30}\")\n",
    "    print(df[feat].value_counts(dropna=False))\n",
    "    print(\"-\"*30)\n"
   ]
  },
  {
   "attachments": {},
   "cell_type": "markdown",
   "metadata": {},
   "source": [
    "3. Change categorical 1,0 values to \"yes\" \"no\""
   ]
  },
  {
   "cell_type": "code",
   "execution_count": 469,
   "metadata": {},
   "outputs": [],
   "source": [
    "dfc[\"success\"].replace({1: \"Yes\", 0: \"No\", -9: \"Unknown\", np.nan: \"Unknown\"}, inplace=True)\n",
    "dfc[\"suicide\"].replace({1: \"Yes\", 0: \"No\", -9: \"Unknown\", np.nan: \"Unknown\"}, inplace=True)\n",
    "dfc[\"property\"].replace({1: \"Yes\", 0: \"No\", -9: \"Unknown\", np.nan: \"Unknown\"}, inplace=True)\n",
    "dfc[\"multiple\"].replace({1: \"Yes\", 0: \"No\", -9: \"Unknown\", np.nan: \"No\"}, inplace=True)\n",
    "dfc[\"individual\"].replace({1: \"Yes\", 0: \"No\", -9: \"Unknown\", np.nan: \"No\"}, inplace=True)\n",
    "dfc[\"claimed\"].replace({1: \"Yes\", 0: \"No\", -9: \"Unknown\", np.nan: \"Unknown\"}, inplace=True)\n",
    "dfc[\"compclaim\"].replace({1: \"Yes\", 0: \"No\", -9: \"Unknown\", np.nan: \"NA\"}, inplace=True)\n",
    "dfc[\"ishostkid\"].replace({1: \"Yes\", 0: \"No\", -9: \"Unknown\", np.nan: \"Unknown\"}, inplace=True)\n",
    "dfc[\"hostkidoutcome_txt\"].replace({np.nan: \"Unknown\"}, inplace=True)\n",
    "dfc[\"ransom\"].replace({1: \"Yes\", 0: \"No\", -9: \"Unknown\", np.nan: \"Unknown\"}, inplace=True)\n",
    "dfc[\"INT_LOG\"].replace({1: \"Yes\", 0: \"No\", -9: \"Unknown\", np.nan: \"Unknown\"}, inplace=True)\n",
    "dfc[\"INT_IDEO\"].replace({1: \"Yes\", 0: \"No\", -9: \"Unknown\", np.nan: \"Unknown\"}, inplace=True)\n",
    "dfc[\"INT_MISC\"].replace({1: \"Yes\", 0: \"No\", -9: \"Unknown\", np.nan: \"Unknown\"}, inplace=True)\n"
   ]
  },
  {
   "attachments": {},
   "cell_type": "markdown",
   "metadata": {},
   "source": [
    "4. Clean `comclaim` invalid values with `claimed`.  "
   ]
  },
  {
   "cell_type": "code",
   "execution_count": 470,
   "metadata": {},
   "outputs": [
    {
     "data": {
      "text/plain": [
       "compclaim\n",
       "NA           16307\n",
       "Unknown       1758\n",
       "No             833\n",
       "Yes            410\n",
       "dtype: int64"
      ]
     },
     "execution_count": 470,
     "metadata": {},
     "output_type": "execute_result"
    }
   ],
   "source": [
    "dfc.loc[(dfc[\"claimed\"] == \"Yes\"), [\"compclaim\"]].value_counts()"
   ]
  },
  {
   "attachments": {},
   "cell_type": "markdown",
   "metadata": {},
   "source": [
    "All unknown claimed should be NA comclaim"
   ]
  },
  {
   "cell_type": "code",
   "execution_count": 471,
   "metadata": {},
   "outputs": [],
   "source": [
    "dfc.loc[(dfc[\"claimed\"] == \"Unknown\"), [\"compclaim\"]] = \"NA\""
   ]
  },
  {
   "attachments": {},
   "cell_type": "markdown",
   "metadata": {},
   "source": [
    "All \"No\"\" claimed should be \"NA\" comclaim"
   ]
  },
  {
   "cell_type": "code",
   "execution_count": 472,
   "metadata": {},
   "outputs": [],
   "source": [
    "dfc.loc[(dfc[\"claimed\"] == \"No\"), [\"compclaim\"]] = \"NA\""
   ]
  },
  {
   "attachments": {},
   "cell_type": "markdown",
   "metadata": {},
   "source": [
    "All claimed should either be \"yes\", \"No\", \"Unkown\"  \n",
    "replace \"NA\" to \"Unkown\""
   ]
  },
  {
   "cell_type": "code",
   "execution_count": 473,
   "metadata": {},
   "outputs": [],
   "source": [
    "dfc.loc[(dfc[\"claimed\"] == \"Yes\") & (dfc[\"compclaim\"] == \"NA\"), [\"compclaim\"]] = \"Unknown\""
   ]
  },
  {
   "attachments": {},
   "cell_type": "markdown",
   "metadata": {},
   "source": [
    "5. Clean `ransomamt` invalid values with `ransom`.  "
   ]
  },
  {
   "cell_type": "code",
   "execution_count": 474,
   "metadata": {},
   "outputs": [
    {
     "data": {
      "text/plain": [
       "Unknown    107422\n",
       "No          65711\n",
       "Yes          1338\n",
       "Name: ransom, dtype: int64"
      ]
     },
     "execution_count": 474,
     "metadata": {},
     "output_type": "execute_result"
    }
   ],
   "source": [
    "dfc[\"ransom\"].value_counts()"
   ]
  },
  {
   "attachments": {},
   "cell_type": "markdown",
   "metadata": {},
   "source": [
    "if `ransom` is \"no\", then `ransomamt` should always be \"0\"  "
   ]
  },
  {
   "cell_type": "code",
   "execution_count": 475,
   "metadata": {},
   "outputs": [],
   "source": [
    "dfc.loc[( (dfc[\"ransom\"] == \"No\") | (dfc[\"ransom\"] == \"Unknown\") ) & (dfc[\"ransomamt\"]>0), [\"ransomamt\"]] = 0"
   ]
  },
  {
   "cell_type": "code",
   "execution_count": 476,
   "metadata": {},
   "outputs": [
    {
     "data": {
      "text/html": [
       "<div>\n",
       "<style scoped>\n",
       "    .dataframe tbody tr th:only-of-type {\n",
       "        vertical-align: middle;\n",
       "    }\n",
       "\n",
       "    .dataframe tbody tr th {\n",
       "        vertical-align: top;\n",
       "    }\n",
       "\n",
       "    .dataframe thead th {\n",
       "        text-align: right;\n",
       "    }\n",
       "</style>\n",
       "<table border=\"1\" class=\"dataframe\">\n",
       "  <thead>\n",
       "    <tr style=\"text-align: right;\">\n",
       "      <th></th>\n",
       "      <th>ransomamt</th>\n",
       "    </tr>\n",
       "  </thead>\n",
       "  <tbody>\n",
       "    <tr>\n",
       "      <th>69412</th>\n",
       "      <td>-99.0</td>\n",
       "    </tr>\n",
       "    <tr>\n",
       "      <th>69432</th>\n",
       "      <td>-99.0</td>\n",
       "    </tr>\n",
       "    <tr>\n",
       "      <th>71542</th>\n",
       "      <td>-99.0</td>\n",
       "    </tr>\n",
       "    <tr>\n",
       "      <th>71998</th>\n",
       "      <td>-99.0</td>\n",
       "    </tr>\n",
       "    <tr>\n",
       "      <th>72276</th>\n",
       "      <td>-9.0</td>\n",
       "    </tr>\n",
       "    <tr>\n",
       "      <th>72346</th>\n",
       "      <td>-99.0</td>\n",
       "    </tr>\n",
       "    <tr>\n",
       "      <th>72441</th>\n",
       "      <td>-99.0</td>\n",
       "    </tr>\n",
       "    <tr>\n",
       "      <th>72475</th>\n",
       "      <td>-99.0</td>\n",
       "    </tr>\n",
       "    <tr>\n",
       "      <th>72477</th>\n",
       "      <td>-99.0</td>\n",
       "    </tr>\n",
       "    <tr>\n",
       "      <th>72478</th>\n",
       "      <td>-99.0</td>\n",
       "    </tr>\n",
       "    <tr>\n",
       "      <th>72479</th>\n",
       "      <td>-99.0</td>\n",
       "    </tr>\n",
       "    <tr>\n",
       "      <th>72480</th>\n",
       "      <td>-99.0</td>\n",
       "    </tr>\n",
       "    <tr>\n",
       "      <th>73042</th>\n",
       "      <td>-99.0</td>\n",
       "    </tr>\n",
       "    <tr>\n",
       "      <th>73468</th>\n",
       "      <td>-99.0</td>\n",
       "    </tr>\n",
       "    <tr>\n",
       "      <th>74055</th>\n",
       "      <td>-99.0</td>\n",
       "    </tr>\n",
       "    <tr>\n",
       "      <th>74582</th>\n",
       "      <td>-99.0</td>\n",
       "    </tr>\n",
       "    <tr>\n",
       "      <th>74658</th>\n",
       "      <td>-99.0</td>\n",
       "    </tr>\n",
       "    <tr>\n",
       "      <th>75707</th>\n",
       "      <td>-99.0</td>\n",
       "    </tr>\n",
       "    <tr>\n",
       "      <th>78183</th>\n",
       "      <td>-99.0</td>\n",
       "    </tr>\n",
       "    <tr>\n",
       "      <th>78205</th>\n",
       "      <td>-99.0</td>\n",
       "    </tr>\n",
       "    <tr>\n",
       "      <th>82201</th>\n",
       "      <td>-99.0</td>\n",
       "    </tr>\n",
       "    <tr>\n",
       "      <th>82994</th>\n",
       "      <td>-99.0</td>\n",
       "    </tr>\n",
       "    <tr>\n",
       "      <th>83022</th>\n",
       "      <td>-99.0</td>\n",
       "    </tr>\n",
       "    <tr>\n",
       "      <th>104364</th>\n",
       "      <td>-99.0</td>\n",
       "    </tr>\n",
       "    <tr>\n",
       "      <th>104365</th>\n",
       "      <td>-99.0</td>\n",
       "    </tr>\n",
       "    <tr>\n",
       "      <th>104439</th>\n",
       "      <td>-99.0</td>\n",
       "    </tr>\n",
       "    <tr>\n",
       "      <th>104536</th>\n",
       "      <td>-99.0</td>\n",
       "    </tr>\n",
       "    <tr>\n",
       "      <th>104575</th>\n",
       "      <td>-99.0</td>\n",
       "    </tr>\n",
       "    <tr>\n",
       "      <th>104678</th>\n",
       "      <td>-99.0</td>\n",
       "    </tr>\n",
       "    <tr>\n",
       "      <th>104760</th>\n",
       "      <td>-99.0</td>\n",
       "    </tr>\n",
       "    <tr>\n",
       "      <th>145394</th>\n",
       "      <td>-99.0</td>\n",
       "    </tr>\n",
       "  </tbody>\n",
       "</table>\n",
       "</div>"
      ],
      "text/plain": [
       "        ransomamt\n",
       "69412       -99.0\n",
       "69432       -99.0\n",
       "71542       -99.0\n",
       "71998       -99.0\n",
       "72276        -9.0\n",
       "72346       -99.0\n",
       "72441       -99.0\n",
       "72475       -99.0\n",
       "72477       -99.0\n",
       "72478       -99.0\n",
       "72479       -99.0\n",
       "72480       -99.0\n",
       "73042       -99.0\n",
       "73468       -99.0\n",
       "74055       -99.0\n",
       "74582       -99.0\n",
       "74658       -99.0\n",
       "75707       -99.0\n",
       "78183       -99.0\n",
       "78205       -99.0\n",
       "82201       -99.0\n",
       "82994       -99.0\n",
       "83022       -99.0\n",
       "104364      -99.0\n",
       "104365      -99.0\n",
       "104439      -99.0\n",
       "104536      -99.0\n",
       "104575      -99.0\n",
       "104678      -99.0\n",
       "104760      -99.0\n",
       "145394      -99.0"
      ]
     },
     "execution_count": 476,
     "metadata": {},
     "output_type": "execute_result"
    }
   ],
   "source": [
    "dfc.loc[( (dfc[\"ransom\"] == \"No\") | (dfc[\"ransom\"] == \"Unknown\") ) & (dfc[\"ransomamt\"]<0), [\"ransomamt\"]]"
   ]
  },
  {
   "cell_type": "code",
   "execution_count": 477,
   "metadata": {},
   "outputs": [],
   "source": [
    "dfc.loc[( (dfc[\"ransom\"] == \"No\") | (dfc[\"ransom\"] == \"Unknown\") ) & (dfc[\"ransomamt\"]<0), [\"ransomamt\"]] = 0"
   ]
  },
  {
   "cell_type": "code",
   "execution_count": 481,
   "metadata": {},
   "outputs": [
    {
     "data": {
      "text/plain": [
       "ransom\n",
       "1.0       250\n",
       "dtype: int64"
      ]
     },
     "execution_count": 481,
     "metadata": {},
     "output_type": "execute_result"
    }
   ],
   "source": [
    "df.loc[df[\"ransompaid\"]>0, [\"ransom\"]].value_counts()"
   ]
  },
  {
   "attachments": {},
   "cell_type": "markdown",
   "metadata": {},
   "source": [
    "6. Replace numerical columns \"-99\" to 0"
   ]
  },
  {
   "cell_type": "code",
   "execution_count": 485,
   "metadata": {},
   "outputs": [
    {
     "data": {
      "text/plain": [
       "ransomamt\n",
       "-99.0        322\n",
       "-9.0           3\n",
       "dtype: int64"
      ]
     },
     "execution_count": 485,
     "metadata": {},
     "output_type": "execute_result"
    }
   ],
   "source": [
    "df.loc[df[\"ransomamt\"]<0, [\"ransomamt\"]].value_counts()"
   ]
  },
  {
   "cell_type": "code",
   "execution_count": null,
   "metadata": {},
   "outputs": [],
   "source": [
    "dfc[\"ransomamt\"].replace({np.nan: 0}, inplace=True)\n",
    "dfc[\"ransompaid\"].replace({np.nan: 0}, inplace=True)"
   ]
  },
  {
   "attachments": {},
   "cell_type": "markdown",
   "metadata": {},
   "source": [
    "7. remove date from summary"
   ]
  },
  {
   "cell_type": "code",
   "execution_count": null,
   "metadata": {},
   "outputs": [],
   "source": [
    "def clean_str(text):\n",
    "    if isinstance(text, str):\n",
    "        prefix_date = r\"^\\d+\\/\\d+\\/\\d+:?\\s?\"\n",
    "        return re.sub(prefix_date, \"\", text)\n",
    "    else:\n",
    "        return \"No Information Available\""
   ]
  },
  {
   "cell_type": "code",
   "execution_count": null,
   "metadata": {},
   "outputs": [],
   "source": [
    "sample_text = \"01/01/2000: In the first of two related incidents, National Union for the Total Independence of Angola (UNITA) members attacked a tavern in the village of Muitjiku, Namibia. The owner of the tavern fired back at UNITA, injuring some of the rebels.\""
   ]
  },
  {
   "cell_type": "code",
   "execution_count": null,
   "metadata": {},
   "outputs": [
    {
     "data": {
      "text/plain": [
       "'In the first of two related incidents, National Union for the Total Independence of Angola (UNITA) members attacked a tavern in the village of Muitjiku, Namibia. The owner of the tavern fired back at UNITA, injuring some of the rebels.'"
      ]
     },
     "execution_count": 392,
     "metadata": {},
     "output_type": "execute_result"
    }
   ],
   "source": [
    "clean_str(sample_text)"
   ]
  },
  {
   "cell_type": "code",
   "execution_count": null,
   "metadata": {},
   "outputs": [],
   "source": [
    "dfc[\"summary\"] = dfc[\"summary\"].apply(lambda x: clean_str(x))"
   ]
  },
  {
   "attachments": {},
   "cell_type": "markdown",
   "metadata": {},
   "source": [
    "**Create new features**"
   ]
  },
  {
   "attachments": {},
   "cell_type": "markdown",
   "metadata": {},
   "source": [
    "8. Number of killed victams"
   ]
  },
  {
   "cell_type": "code",
   "execution_count": 528,
   "metadata": {},
   "outputs": [],
   "source": [
    "dfc[\"nkillvictams\"] = dfc[\"nkill\"] - dfc[\"nkillter\"]"
   ]
  },
  {
   "cell_type": "code",
   "execution_count": 529,
   "metadata": {},
   "outputs": [
    {
     "data": {
      "text/plain": [
       "0.0      61651\n",
       "NaN      60338\n",
       "1.0      24558\n",
       "2.0       9778\n",
       "3.0       4998\n",
       "         ...  \n",
       "142.0        1\n",
       "106.0        1\n",
       "287.0        1\n",
       "315.0        1\n",
       "207.0        1\n",
       "Name: nkillvictams, Length: 157, dtype: int64"
      ]
     },
     "execution_count": 529,
     "metadata": {},
     "output_type": "execute_result"
    }
   ],
   "source": [
    "dfc[\"nkillvictams\"].value_counts(dropna=False)"
   ]
  },
  {
   "cell_type": "code",
   "execution_count": 491,
   "metadata": {},
   "outputs": [
    {
     "data": {
      "text/html": [
       "<div>\n",
       "<style scoped>\n",
       "    .dataframe tbody tr th:only-of-type {\n",
       "        vertical-align: middle;\n",
       "    }\n",
       "\n",
       "    .dataframe tbody tr th {\n",
       "        vertical-align: top;\n",
       "    }\n",
       "\n",
       "    .dataframe thead th {\n",
       "        text-align: right;\n",
       "    }\n",
       "</style>\n",
       "<table border=\"1\" class=\"dataframe\">\n",
       "  <thead>\n",
       "    <tr style=\"text-align: right;\">\n",
       "      <th></th>\n",
       "      <th>nkillvictams</th>\n",
       "    </tr>\n",
       "  </thead>\n",
       "  <tbody>\n",
       "  </tbody>\n",
       "</table>\n",
       "</div>"
      ],
      "text/plain": [
       "Empty DataFrame\n",
       "Columns: [nkillvictams]\n",
       "Index: []"
      ]
     },
     "execution_count": 491,
     "metadata": {},
     "output_type": "execute_result"
    }
   ],
   "source": [
    "dfc.loc[dfc[\"nkillvictams\"]<0, [\"nkillvictams\"]]"
   ]
  },
  {
   "cell_type": "code",
   "execution_count": 534,
   "metadata": {},
   "outputs": [
    {
     "data": {
      "text/html": [
       "<div>\n",
       "<style scoped>\n",
       "    .dataframe tbody tr th:only-of-type {\n",
       "        vertical-align: middle;\n",
       "    }\n",
       "\n",
       "    .dataframe tbody tr th {\n",
       "        vertical-align: top;\n",
       "    }\n",
       "\n",
       "    .dataframe thead th {\n",
       "        text-align: right;\n",
       "    }\n",
       "</style>\n",
       "<table border=\"1\" class=\"dataframe\">\n",
       "  <thead>\n",
       "    <tr style=\"text-align: right;\">\n",
       "      <th></th>\n",
       "      <th>nkillter</th>\n",
       "    </tr>\n",
       "  </thead>\n",
       "  <tbody>\n",
       "  </tbody>\n",
       "</table>\n",
       "</div>"
      ],
      "text/plain": [
       "Empty DataFrame\n",
       "Columns: [nkillter]\n",
       "Index: []"
      ]
     },
     "execution_count": 534,
     "metadata": {},
     "output_type": "execute_result"
    }
   ],
   "source": [
    "dfc.loc[dfc[\"nkillter\"]>dfc[\"nkill\"], [\"nkillter\"]]"
   ]
  },
  {
   "cell_type": "code",
   "execution_count": 533,
   "metadata": {},
   "outputs": [
    {
     "data": {
      "text/plain": [
       "iyear                                                              1970\n",
       "imonth                                                                3\n",
       "iday                                                                  5\n",
       "extended                                                              0\n",
       "resolution                                                          NaT\n",
       "country_txt                                               United States\n",
       "region_txt                                                North America\n",
       "summary               3/5/1970: Unknown Puerto Rican Nationalists as...\n",
       "multiple                                                             No\n",
       "success                                                             Yes\n",
       "suicide                                                              No\n",
       "attacktype1_txt                                           Assassination\n",
       "attacktype2_txt                                                     NaN\n",
       "attacktype3_txt                                                     NaN\n",
       "targtype1_txt                                                  Military\n",
       "targtype2_txt                                                       NaN\n",
       "targtype3_txt                                                       NaN\n",
       "individual                                                           No\n",
       "claimed                                                              No\n",
       "compclaim                                                            NA\n",
       "weaptype1_txt                                                  Firearms\n",
       "weaptype2_txt                                                       NaN\n",
       "weaptype3_txt                                                       NaN\n",
       "weaptype4_txt                                                       NaN\n",
       "nkill                                                               2.0\n",
       "nkillter                                                            0.0\n",
       "nwound                                                              0.0\n",
       "property                                                             No\n",
       "ishostkid                                                            No\n",
       "divert                                                              NaN\n",
       "ransom                                                               No\n",
       "ransomamt                                                           NaN\n",
       "ransompaid                                                          NaN\n",
       "hostkidoutcome_txt                                              Unknown\n",
       "INT_LOG                                                              No\n",
       "INT_IDEO                                                            Yes\n",
       "INT_MISC                                                             No\n",
       "nkillvictams                                                        2.0\n",
       "ransom_paid_text                                              No Ransom\n",
       "Name: 111, dtype: object"
      ]
     },
     "execution_count": 533,
     "metadata": {},
     "output_type": "execute_result"
    }
   ],
   "source": [
    "dfc.loc[111]"
   ]
  },
  {
   "cell_type": "code",
   "execution_count": 492,
   "metadata": {},
   "outputs": [
    {
     "data": {
      "text/html": [
       "<div>\n",
       "<style scoped>\n",
       "    .dataframe tbody tr th:only-of-type {\n",
       "        vertical-align: middle;\n",
       "    }\n",
       "\n",
       "    .dataframe tbody tr th {\n",
       "        vertical-align: top;\n",
       "    }\n",
       "\n",
       "    .dataframe thead th {\n",
       "        text-align: right;\n",
       "    }\n",
       "</style>\n",
       "<table border=\"1\" class=\"dataframe\">\n",
       "  <thead>\n",
       "    <tr style=\"text-align: right;\">\n",
       "      <th></th>\n",
       "      <th>nkill</th>\n",
       "    </tr>\n",
       "  </thead>\n",
       "  <tbody>\n",
       "  </tbody>\n",
       "</table>\n",
       "</div>"
      ],
      "text/plain": [
       "Empty DataFrame\n",
       "Columns: [nkill]\n",
       "Index: []"
      ]
     },
     "execution_count": 492,
     "metadata": {},
     "output_type": "execute_result"
    }
   ],
   "source": [
    "dfc.loc[dfc[\"nkill\"]<dfc[\"nkillter\"], [\"nkill\"]]"
   ]
  },
  {
   "attachments": {},
   "cell_type": "markdown",
   "metadata": {},
   "source": [
    "- Ransom paid compared to requested amount"
   ]
  },
  {
   "cell_type": "code",
   "execution_count": 521,
   "metadata": {},
   "outputs": [],
   "source": [
    "def ransom_paid_txt(amount, paid):\n",
    "    if ( (np.isnan(amount) and np.isnan(paid)) or \n",
    "         (np.isnan(amount) and paid == 0) or \n",
    "         (amount == 0 and np.isnan(paid)) or \n",
    "         (amount == paid == 0)):\n",
    "        res = \"No Ransom\"\n",
    "    elif amount == -99 or paid == -99 or np.isnan(paid) or np.isnan(amount):\n",
    "        res = \"Unknown\"\n",
    "    elif amount == 0 and paid > 0:\n",
    "        res = \"No Ransom, but Paid!\"\n",
    "    elif amount > 0 and paid == 0:\n",
    "        res = \"Ransom not paid\"\n",
    "    elif amount > paid:\n",
    "        res = \"Ransom paid partially\"\n",
    "    elif amount < paid:\n",
    "        res = \"Ransom paid with extra!\"\n",
    "    elif amount == paid:\n",
    "        res = \"Ransom paid exactly\"\n",
    "    else:\n",
    "        res = \"Unknown CASE\"\n",
    "    return res"
   ]
  },
  {
   "cell_type": "code",
   "execution_count": 522,
   "metadata": {},
   "outputs": [
    {
     "data": {
      "text/plain": [
       "True"
      ]
     },
     "execution_count": 522,
     "metadata": {},
     "output_type": "execute_result"
    }
   ],
   "source": [
    "dfc['ransompaid'].isna().any()"
   ]
  },
  {
   "cell_type": "code",
   "execution_count": 523,
   "metadata": {},
   "outputs": [],
   "source": [
    "dfc[\"ransom_paid_text\"] = dfc.apply(lambda x: ransom_paid_txt(x['ransomamt'], x['ransompaid']), axis=1)"
   ]
  },
  {
   "cell_type": "code",
   "execution_count": 524,
   "metadata": {},
   "outputs": [
    {
     "data": {
      "text/plain": [
       "No Ransom                  173407\n",
       "Unknown                       707\n",
       "Ransom not paid               164\n",
       "Ransom paid exactly           102\n",
       "Ransom paid partially          86\n",
       "Ransom paid with extra!         5\n",
       "Name: ransom_paid_text, dtype: int64"
      ]
     },
     "execution_count": 524,
     "metadata": {},
     "output_type": "execute_result"
    }
   ],
   "source": [
    "dfc[\"ransom_paid_text\"].value_counts()"
   ]
  },
  {
   "cell_type": "code",
   "execution_count": 527,
   "metadata": {},
   "outputs": [
    {
     "data": {
      "text/plain": [
       "iyear                                                          1970\n",
       "imonth                                                            3\n",
       "iday                                                             31\n",
       "extended                                                          1\n",
       "resolution                                      1970-04-05 00:00:00\n",
       "country_txt                                               Guatemala\n",
       "region_txt                              Central America & Caribbean\n",
       "summary                                                         NaN\n",
       "multiple                                                         No\n",
       "success                                                         Yes\n",
       "suicide                                                          No\n",
       "attacktype1_txt                         Hostage Taking (Kidnapping)\n",
       "attacktype2_txt                                                 NaN\n",
       "attacktype3_txt                                                 NaN\n",
       "targtype1_txt                               Government (Diplomatic)\n",
       "targtype2_txt                                                   NaN\n",
       "targtype3_txt                                                   NaN\n",
       "individual                                                       No\n",
       "claimed                                                     Unknown\n",
       "compclaim                                                        NA\n",
       "weaptype1_txt                                               Unknown\n",
       "weaptype2_txt                                                   NaN\n",
       "weaptype3_txt                                                   NaN\n",
       "weaptype4_txt                                                   NaN\n",
       "nkill                                                           1.0\n",
       "nkillter                                                        NaN\n",
       "nwound                                                          0.0\n",
       "property                                                         No\n",
       "ishostkid                                                       Yes\n",
       "divert                                                          NaN\n",
       "ransom                                                          Yes\n",
       "ransomamt                                                  700000.0\n",
       "ransompaid                                                      NaN\n",
       "hostkidoutcome_txt    Hostage(s) killed (not during rescue attempt)\n",
       "INT_LOG                                                          No\n",
       "INT_IDEO                                                        Yes\n",
       "INT_MISC                                                        Yes\n",
       "nkillvictams                                                    NaN\n",
       "ransom_paid_text                                            Unknown\n",
       "Name: 161, dtype: object"
      ]
     },
     "execution_count": 527,
     "metadata": {},
     "output_type": "execute_result"
    }
   ],
   "source": [
    "dfc[(dfc[\"ransom_paid_text\"]==\"Unknown\") & (dfc[\"ransomamt\"]>0)].iloc[1]"
   ]
  },
  {
   "cell_type": "code",
   "execution_count": null,
   "metadata": {},
   "outputs": [
    {
     "data": {
      "text/plain": [
       "ransomamt     110000.0\n",
       "ransompaid    110000.0\n",
       "Name: 27, dtype: object"
      ]
     },
     "execution_count": 405,
     "metadata": {},
     "output_type": "execute_result"
    }
   ],
   "source": [
    "df[(df[\"ransomamt\"] != 0) & (df[\"ransomamt\"] == df[\"ransompaid\"])].iloc[0][[\"ransomamt\", \"ransompaid\"]]"
   ]
  },
  {
   "cell_type": "code",
   "execution_count": null,
   "metadata": {},
   "outputs": [
    {
     "data": {
      "text/plain": [
       "ransomamt                      110000.0\n",
       "ransompaid                     110000.0\n",
       "ransom_paid_text    Ransom paid exactly\n",
       "Name: 27, dtype: object"
      ]
     },
     "execution_count": 406,
     "metadata": {},
     "output_type": "execute_result"
    }
   ],
   "source": [
    "dfc.loc[27, [\"ransomamt\", \"ransompaid\", \"ransom_paid_text\"]]"
   ]
  },
  {
   "attachments": {},
   "cell_type": "markdown",
   "metadata": {},
   "source": [
    "8. clean `hostkidoutcome_txt`"
   ]
  },
  {
   "cell_type": "code",
   "execution_count": 430,
   "metadata": {},
   "outputs": [
    {
     "data": {
      "text/plain": [
       "Unknown                                           104746\n",
       "Hostage(s) escaped (not during rescue attempt)         3\n",
       "Name: hostkidoutcome_txt, dtype: int64"
      ]
     },
     "execution_count": 430,
     "metadata": {},
     "output_type": "execute_result"
    }
   ],
   "source": [
    "dfc[dfc[\"ishostkid\"] != \"Yes\"][\"hostkidoutcome_txt\"].value_counts()"
   ]
  },
  {
   "cell_type": "code",
   "execution_count": 431,
   "metadata": {},
   "outputs": [],
   "source": [
    "dfc.loc[dfc[\"ishostkid\"] != \"Yes\", [\"hostkidoutcome_txt\"]] = \"NA\""
   ]
  },
  {
   "cell_type": "code",
   "execution_count": 432,
   "metadata": {},
   "outputs": [
    {
     "data": {
      "text/plain": [
       "Unknown    104749\n",
       "Name: hostkidoutcome_txt, dtype: int64"
      ]
     },
     "execution_count": 432,
     "metadata": {},
     "output_type": "execute_result"
    }
   ],
   "source": [
    "dfc[dfc[\"ishostkid\"] != \"Yes\"][\"hostkidoutcome_txt\"].value_counts()"
   ]
  },
  {
   "attachments": {},
   "cell_type": "markdown",
   "metadata": {},
   "source": [
    "# Save"
   ]
  },
  {
   "cell_type": "code",
   "execution_count": 71,
   "metadata": {},
   "outputs": [],
   "source": [
    "dfc_pre2k = dfc[dfc[\"iyear\"] < 2000].reset_index(drop=True, inplace=False)\n",
    "dfc_post2k = dfc[dfc[\"iyear\"] >= 2000].reset_index(drop=True, inplace=False)"
   ]
  },
  {
   "cell_type": "code",
   "execution_count": 72,
   "metadata": {},
   "outputs": [],
   "source": [
    "\n",
    "dfc_post2k.to_excel(\"cleaned.xlsx\")"
   ]
  },
  {
   "attachments": {},
   "cell_type": "markdown",
   "metadata": {},
   "source": [
    "# Abstraction Function"
   ]
  },
  {
   "cell_type": "code",
   "execution_count": 442,
   "metadata": {},
   "outputs": [],
   "source": [
    "def load_excel_df(path: str) -> pd.DataFrame:\n",
    "    return pd.read_excel(path)"
   ]
  },
  {
   "cell_type": "code",
   "execution_count": 538,
   "metadata": {},
   "outputs": [],
   "source": [
    "def clean_df(df: pd.DataFrame) -> pd.DataFrame:\n",
    "    \"\"\"\n",
    "    Clean a dataframe and return cleaned version\n",
    "    \"\"\"\n",
    "    \n",
    "    _remove_columns = [\n",
    "    \"eventid\", \n",
    "    \"approxdate\",\n",
    "    \"resolution\",\n",
    "    \"crit1\", \n",
    "    \"crit2\", \n",
    "    \"crit3\", \n",
    "    \"doubtterr\", \n",
    "    \"alternative\", \n",
    "    \"alternative_txt\", \n",
    "    \"related\", \n",
    "    \"country\", \n",
    "    \"region\", \n",
    "    \"provstate\", \n",
    "    \"city\", \n",
    "    \"vicinity\", \n",
    "    \"location\",\n",
    "    \"latitude\", \n",
    "    \"longitude\", \n",
    "    \"specificity\",\n",
    "    \"attacktype1\",\n",
    "    \"attacktype2\",\n",
    "    \"attacktype3\",\n",
    "    \"weaptype1\",\n",
    "    \"weaptype2\",\n",
    "    \"weaptype3\",\n",
    "    \"weaptype4\",\n",
    "    \"weapsubtype1\",\n",
    "    \"weapsubtype2\",\n",
    "    \"weapsubtype3\",\n",
    "    \"weapsubtype4\",\n",
    "    \"weapsubtype1_txt\",\n",
    "    \"weapsubtype2_txt\",\n",
    "    \"weapsubtype3_txt\",\n",
    "    \"weapsubtype4_txt\",\n",
    "    \"weapdetail\",\n",
    "    \"targtype1\",\n",
    "    \"targsubtype1\",\n",
    "    \"targsubtype1_txt\",\n",
    "    \"corp1\",\n",
    "    \"target1\",\n",
    "    \"natlty1\",\n",
    "    \"natlty1_txt\",\n",
    "    \"targtype2\",\n",
    "    \"targsubtype2\",\n",
    "    \"corp2\",\n",
    "    \"target2\",\n",
    "    \"natlty2\",\n",
    "    \"targsubtype2_txt\",\n",
    "    \"natlty2_txt\",\n",
    "    \"targtype3\",\n",
    "    \"targsubtype3\",\n",
    "    \"corp3\",\n",
    "    \"target3\",\n",
    "    \"natlty3\",\n",
    "    \"targsubtype3_txt\",\n",
    "    \"natlty3_txt\",\n",
    "    \"gname\",\n",
    "    \"gsubname\",\n",
    "    \"gname2\",\n",
    "    \"gsubname2\",\n",
    "    \"gname3\",\n",
    "    \"gsubname3\",\n",
    "    \"guncertain1\",\n",
    "    \"guncertain2\",\n",
    "    \"guncertain3\",\n",
    "    \"nperps\",\n",
    "    \"nperpcap\",\n",
    "    \"nperpcap\",\n",
    "    \"claimmode\",\n",
    "    \"claimmode_txt\",\n",
    "    \"claim2\",\n",
    "    \"claimmode2\",\n",
    "    \"claimmode2_txt\",\n",
    "    \"claim3\",\n",
    "    \"claimmode3\",\n",
    "    \"claimmode3_txt\",\n",
    "    \"motive\",\n",
    "    \"nkillus\",\n",
    "    \"nwoundus\",\n",
    "    \"nwoundte\",\n",
    "    \"propextent\",\n",
    "    \"propextent_txt\",\n",
    "    \"propvalue\",\n",
    "    \"propcomment\",\n",
    "    \"nhostkid\",\n",
    "    \"nhostkidus\",\n",
    "    \"nhours\",\n",
    "    \"ndays\",\n",
    "    \"kidhijcountry\",\n",
    "    \"ransompaidus\",\n",
    "    \"ransomamtus\",\n",
    "    \"ransomnote\",\n",
    "    \"hostkidoutcome\",\n",
    "    \"nreleased\",\n",
    "    \"addnotes\",\n",
    "    \"addnotes\",\n",
    "    \"scite1\",\n",
    "    \"scite2\",\n",
    "    \"scite3\",\n",
    "    \"dbsource\",\n",
    "    \"INT_ANY\"\n",
    "    ]\n",
    "    # 1. Remove unconfirmed acts\n",
    "    dfc = df[df[\"doubtterr\"] != 1].copy()\n",
    "    \n",
    "    # 2. Drop unwanted columns\n",
    "    dfc.drop(columns=_remove_columns, inplace=True)\n",
    "\n",
    "    # 3. Change numerical values to \"yes\" \"no\" \n",
    "    dfc[\"success\"].replace({1: \"Yes\", 0: \"No\", -9: \"Unknown\", np.nan: \"Unknown\"}, inplace=True)\n",
    "    dfc[\"suicide\"].replace({1: \"Yes\", 0: \"No\", -9: \"Unknown\", np.nan: \"Unknown\"}, inplace=True)\n",
    "    dfc[\"property\"].replace({1: \"Yes\", 0: \"No\", -9: \"Unknown\", np.nan: \"Unknown\"}, inplace=True)\n",
    "    dfc[\"multiple\"].replace({1: \"Yes\", 0: \"No\", -9: \"Unknown\", np.nan: \"No\"}, inplace=True)\n",
    "    dfc[\"individual\"].replace({1: \"Yes\", 0: \"No\", -9: \"Unknown\", np.nan: \"No\"}, inplace=True)\n",
    "    dfc[\"claimed\"].replace({1: \"Yes\", 0: \"No\", -9: \"Unknown\", np.nan: \"Unknown\"}, inplace=True)\n",
    "    dfc[\"compclaim\"].replace({1: \"Yes\", 0: \"No\", -9: \"Unknown\", np.nan: \"NA\"}, inplace=True)\n",
    "    dfc[\"ishostkid\"].replace({1: \"Yes\", 0: \"No\", -9: \"Unknown\", np.nan: \"Unknown\"}, inplace=True)\n",
    "    dfc[\"hostkidoutcome_txt\"].replace({np.nan: \"Unknown\"}, inplace=True)\n",
    "    dfc[\"ransom\"].replace({1: \"Yes\", 0: \"No\", -9: \"Unknown\", np.nan: \"Unknown\"}, inplace=True)\n",
    "    dfc[\"INT_LOG\"].replace({1: \"Yes\", 0: \"No\", -9: \"Unknown\", np.nan: \"Unknown\"}, inplace=True)\n",
    "    dfc[\"INT_IDEO\"].replace({1: \"Yes\", 0: \"No\", -9: \"Unknown\", np.nan: \"Unknown\"}, inplace=True)\n",
    "    dfc[\"INT_MISC\"].replace({1: \"Yes\", 0: \"No\", -9: \"Unknown\", np.nan: \"Unknown\"}, inplace=True)\n",
    "\n",
    "    # 4. Clean `comclaim` invalid values when compared to `claimed`.  \n",
    "        # - All unknown claimed should be NA comclaim\n",
    "        # - All \"No\"\" claimed should be \"NA\" comclaim\n",
    "        # - All claimed should either be \"yes\", \"No\", \"Unkown\" , replace \"NA\" to \"Unkown\"\n",
    "    dfc.loc[(dfc[\"claimed\"] == \"Unknown\"), [\"compclaim\"]] = \"NA\"\n",
    "    dfc.loc[(dfc[\"claimed\"] == \"No\"), [\"compclaim\"]] = \"NA\"\n",
    "    dfc.loc[(dfc[\"claimed\"] == \"Yes\") & (dfc[\"compclaim\"] == \"NA\"), [\"compclaim\"]] = \"Unknown\"\n",
    "\n",
    "    # 5. Clean `ransomamt` invalid values with `ransom`.  \n",
    "        # if `ransom` is \"no\", then `ransomamt` should always be \"0\"\n",
    "    dfc.loc[(dfc[\"ransom\"] == \"No\") | (dfc[\"ransom\"] == \"Unknown\"), [\"ransomamt\"]] = 0\n",
    "\n",
    "    # # 6. Replace \"NaN\" to 0\n",
    "    # dfc[\"ransomamt\"].replace({np.nan: 0}, inplace=True)\n",
    "    # dfc[\"ransompaid\"].replace({np.nan: 0}, inplace=True)\n",
    "\n",
    "    # 7. clean summary\n",
    "    def _clean_str(text):\n",
    "        if isinstance(text, str):\n",
    "            prefix_date = r\"^\\d+\\/\\d+\\/\\d+:?\\s?\"\n",
    "            return re.sub(prefix_date, \"\", text)\n",
    "        else:\n",
    "            return \"No Information Available\"\n",
    "    dfc[\"summary\"] = dfc[\"summary\"].apply(lambda x: _clean_str(x))\n",
    "    \n",
    "    # 8. Create new features - Number of killed victams\n",
    "    dfc[\"nkillvictams\"] = dfc[\"nkill\"] - dfc[\"nkillter\"]\n",
    "    \n",
    "    # Create new features - Ransom paid compared to requested amount\n",
    "    def _ransom_paid_txt(amount, paid):\n",
    "        if ( (np.isnan(amount) and np.isnan(paid)) or \n",
    "            (np.isnan(amount) and paid == 0) or \n",
    "            (amount == 0 and np.isnan(paid)) or \n",
    "            (amount == paid == 0)):\n",
    "            res = \"No Ransom\"\n",
    "        elif amount == -99 or paid == -99 or np.isnan(paid) or np.isnan(amount):\n",
    "            res = \"Unknown\"\n",
    "        elif amount == 0 and paid > 0:\n",
    "            res = \"No Ransom, but Paid!\"\n",
    "        elif amount > 0 and paid == 0:\n",
    "            res = \"Ransom not paid\"\n",
    "        elif amount > paid:\n",
    "            res = \"Ransom paid partially\"\n",
    "        elif amount < paid:\n",
    "            res = \"Ransom paid with extra!\"\n",
    "        elif amount == paid:\n",
    "            res = \"Ransom paid exactly\"\n",
    "        else:\n",
    "            res = \"Unknown CASE\"\n",
    "        return res\n",
    "    \n",
    "    dfc[\"ransom_paid_text\"] = dfc.apply(lambda x: _ransom_paid_txt(x['ransomamt'], x['ransompaid']), axis=1)\n",
    "    \n",
    "    # clean -99 from ransom, ransompaid, nkill, nkillter\n",
    "    dfc[\"ransomamt\"].replace({-99: np.nan, -9: np.nan}, inplace=True)\n",
    "    dfc[\"ransompaid\"].replace({-99: np.nan, -9: np.nan}, inplace=True)\n",
    "    dfc[\"nkill\"].replace({-99: np.nan, -9: np.nan}, inplace=True)\n",
    "    dfc[\"nkillter\"].replace({-99: np.nan, -9: np.nan}, inplace=True)\n",
    "\n",
    "    # clean hostkidoutcome_txt\n",
    "    dfc.loc[dfc[\"ishostkid\"] != \"Yes\", [\"hostkidoutcome_txt\"]] = \"NA\"\n",
    "\n",
    "    return dfc"
   ]
  },
  {
   "cell_type": "code",
   "execution_count": 536,
   "metadata": {},
   "outputs": [],
   "source": [
    "def save_split(\n",
    "    df: pd.DataFrame, \n",
    "    split_year : int = 2000,\n",
    "    save_split : str = \"post\",\n",
    "    )-> None: \n",
    "    \"\"\"\n",
    "    Save DataFrame into excel.  \n",
    "\n",
    "    Args:  \n",
    "    - df: DataFrame to save.  \n",
    "    - split_year: year to split the dataframe on, use 0 to not split  \n",
    "    - save_split: which split to save, use one of [\"post\", \"pre\", \"both\"]  \n",
    "    \"\"\"\n",
    "    \n",
    "    dfc_pre = df[df[\"iyear\"] < split_year].reset_index(drop=True, inplace=False)\n",
    "    dfc_pst = df[df[\"iyear\"] >= split_year].reset_index(drop=True, inplace=False)\n",
    "\n",
    "    # if save == \"post\":\n",
    "    #     dfc_pst.to_excel(f\"cleaned_post_{split_year}.xlsx\")\n",
    "    # elif save == \"pre\":\n",
    "    #     dfc_pre.to_excel(f\"cleaned_post_{split_year}.xlsx\")\n",
    "    # else:\n",
    "    #     dfc_pst.to_excel(f\"cleaned_post_{split_year}.xlsx\")\n",
    "    #     dfc_pre.to_excel(f\"cleaned_post_{split_year}.xlsx\")\n",
    "\n",
    "    if save_split != \"post\":\n",
    "        dfc_pre.to_excel(f\"cleaned_pre_{split_year}.xlsx\")\n",
    "    \n",
    "    if save_split != \"pre\":\n",
    "        dfc_pst.to_excel(f\"cleaned_post_{split_year}.xlsx\")\n",
    "\n",
    "\n"
   ]
  },
  {
   "cell_type": "code",
   "execution_count": 445,
   "metadata": {},
   "outputs": [],
   "source": [
    "path = \"./globalterrorismdb_0522dist.xlsx\""
   ]
  },
  {
   "cell_type": "code",
   "execution_count": 446,
   "metadata": {},
   "outputs": [],
   "source": [
    "df = load_excel_df(path)"
   ]
  },
  {
   "cell_type": "code",
   "execution_count": 539,
   "metadata": {},
   "outputs": [],
   "source": [
    "dfc = clean_df(df)"
   ]
  },
  {
   "cell_type": "code",
   "execution_count": 544,
   "metadata": {},
   "outputs": [
    {
     "data": {
      "text/plain": [
       "iyear                                                              2020\n",
       "imonth                                                               12\n",
       "iday                                                                 31\n",
       "extended                                                              0\n",
       "country_txt                                                 Afghanistan\n",
       "region_txt                                                   South Asia\n",
       "summary               Assailants shot and killed a civil society act...\n",
       "multiple                                                             No\n",
       "success                                                             Yes\n",
       "suicide                                                              No\n",
       "attacktype1_txt                                           Armed Assault\n",
       "attacktype2_txt                                                     NaN\n",
       "attacktype3_txt                                                     NaN\n",
       "targtype1_txt                               Private Citizens & Property\n",
       "targtype2_txt                                                       NaN\n",
       "targtype3_txt                                                       NaN\n",
       "individual                                                           No\n",
       "claimed                                                              No\n",
       "compclaim                                                            NA\n",
       "weaptype1_txt                                                  Firearms\n",
       "weaptype2_txt                                                       NaN\n",
       "weaptype3_txt                                                       NaN\n",
       "weaptype4_txt                                                       NaN\n",
       "nkill                                                               1.0\n",
       "nkillter                                                            0.0\n",
       "nwound                                                              0.0\n",
       "property                                                             No\n",
       "ishostkid                                                            No\n",
       "divert                                                              NaN\n",
       "ransom                                                          Unknown\n",
       "ransomamt                                                           0.0\n",
       "ransompaid                                                          NaN\n",
       "hostkidoutcome_txt                                                   NA\n",
       "INT_LOG                                                         Unknown\n",
       "INT_IDEO                                                        Unknown\n",
       "INT_MISC                                                             No\n",
       "nkillvictams                                                        1.0\n",
       "ransom_paid_text                                              No Ransom\n",
       "Name: 209704, dtype: object"
      ]
     },
     "execution_count": 544,
     "metadata": {},
     "output_type": "execute_result"
    }
   ],
   "source": [
    "dfc.tail(2).iloc[1]\n"
   ]
  },
  {
   "cell_type": "code",
   "execution_count": 448,
   "metadata": {},
   "outputs": [],
   "source": [
    "save_split(dfc, 2000, \"post\")"
   ]
  },
  {
   "cell_type": "code",
   "execution_count": null,
   "metadata": {},
   "outputs": [],
   "source": []
  }
 ],
 "metadata": {
  "kernelspec": {
   "display_name": "base",
   "language": "python",
   "name": "python3"
  },
  "language_info": {
   "codemirror_mode": {
    "name": "ipython",
    "version": 3
   },
   "file_extension": ".py",
   "mimetype": "text/x-python",
   "name": "python",
   "nbconvert_exporter": "python",
   "pygments_lexer": "ipython3",
   "version": "3.10.9"
  },
  "orig_nbformat": 4
 },
 "nbformat": 4,
 "nbformat_minor": 2
}
